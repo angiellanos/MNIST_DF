{
  "nbformat": 4,
  "nbformat_minor": 0,
  "metadata": {
    "colab": {
      "provenance": [],
      "authorship_tag": "ABX9TyOH6Ne7tgyCQdiHiWWFQFiH",
      "include_colab_link": true
    },
    "kernelspec": {
      "name": "python3",
      "display_name": "Python 3"
    },
    "language_info": {
      "name": "python"
    }
  },
  "cells": [
    {
      "cell_type": "markdown",
      "metadata": {
        "id": "view-in-github",
        "colab_type": "text"
      },
      "source": [
        "<a href=\"https://colab.research.google.com/github/angiellanos/MNIST_DF/blob/main/MNIST.ipynb\" target=\"_parent\"><img src=\"https://colab.research.google.com/assets/colab-badge.svg\" alt=\"Open In Colab\"/></a>"
      ]
    },
    {
      "cell_type": "markdown",
      "source": [
        "1. Se usan las funciones *_load_label* y *_load_img* para cargar el conjunto de datos del MNIST. Luego, se usa la función *train_test_split* de la librería *sklearn* para dividir el conjunto de datos en un conjunto de entrenamiento y uno de prueba, asegurándose de que ambos estén balanceados. Es decir, que tengan la misma proporción de imágenes para cada dígito. Se usa el parámetro *stratify* de la función *train_test_split* para lograr esto. El tamaño del conjunto de prueba es 10000, entonces el conjunto de prueba tiene 10000 imágenes y el conjunto de entrenamiento 50000 imágenes."
      ],
      "metadata": {
        "id": "JBZ_OklUjsek"
      }
    },
    {
      "cell_type": "code",
      "source": [
        "! git clone https://github.com/angiellanos/MNIST_DF.git"
      ],
      "metadata": {
        "colab": {
          "base_uri": "https://localhost:8080/"
        },
        "id": "oVcM3IK4ykVr",
        "outputId": "0293ef4b-f2c7-401a-ca7e-eb7c047ab779"
      },
      "execution_count": 3,
      "outputs": [
        {
          "output_type": "stream",
          "name": "stdout",
          "text": [
            "fatal: destination path 'MNIST_DF' already exists and is not an empty directory.\n"
          ]
        }
      ]
    },
    {
      "cell_type": "code",
      "source": [
        "%cd MNIST_DF/"
      ],
      "metadata": {
        "colab": {
          "base_uri": "https://localhost:8080/"
        },
        "id": "30J7zTady3Hy",
        "outputId": "a1b5064f-e450-4ef1-b0cc-2459f9a29df5"
      },
      "execution_count": 4,
      "outputs": [
        {
          "output_type": "stream",
          "name": "stdout",
          "text": [
            "/content/MNIST_DF\n"
          ]
        }
      ]
    },
    {
      "cell_type": "code",
      "source": [
        "print(os.getcwd())"
      ],
      "metadata": {
        "colab": {
          "base_uri": "https://localhost:8080/"
        },
        "id": "uNBuis3fJBNr",
        "outputId": "ac36c55b-0065-4d18-a598-89acab141074"
      },
      "execution_count": 5,
      "outputs": [
        {
          "output_type": "stream",
          "name": "stdout",
          "text": [
            "/content/MNIST_DF\n"
          ]
        }
      ]
    },
    {
      "cell_type": "code",
      "source": [
        "import os.path\n",
        "import gzip\n",
        "import pickle\n",
        "import os\n",
        "import numpy as np\n",
        "import torch\n",
        "from torch.utils.data import Dataset\n",
        "from torch.utils.data import DataLoader\n",
        "from torchvision import datasets\n",
        "from torchvision.transforms import ToTensor\n",
        "import matplotlib.pyplot as plt\n",
        "from sklearn.model_selection import train_test_split\n",
        "\n",
        "files = {\n",
        "    'train_img':'train-images-idx3-ubyte.gz',\n",
        "    'train_label':'train-labels-idx1-ubyte.gz',\n",
        "    'test_img':'t10k-images-idx3-ubyte.gz',\n",
        "    'test_label':'t10k-labels-idx1-ubyte.gz'\n",
        "}\n",
        "\n",
        "image_size = 28\n",
        "num_images = [60000, 10000]\n",
        "num_labels = [60000, 10000]\n",
        "\n",
        "def _load_label(file_key):\n",
        "    \"\"\"Función que carga las etiquetas de las imágenes desde un archivo comprimido en formato gzip.\n",
        "    Args:\n",
        "        file_name (str): el nombre del archivo que contiene las etiquetas\n",
        "    Returns:\n",
        "        array: etiquetas de las imágenes.\n",
        "    \"\"\"\n",
        "    file_name = files[file_key]\n",
        "    file_path = os.getcwd() + \"/\" + file_name\n",
        "\n",
        "    j = 0 if file_key=='train_label' else 1\n",
        "    with gzip.open(file_path, 'rb') as f:\n",
        "        # omite los primeros 8 bytes\n",
        "        f.read(8)\n",
        "        buf = f.read(num_labels[j])\n",
        "        label = np.frombuffer(buf, dtype=np.uint8).astype(np.int64)\n",
        "        # print(label[:20])\n",
        "\n",
        "    return label\n",
        "\n",
        "def _load_img(file_key):\n",
        "    \"\"\"Función que carga las imágenes desde un archivo comprimido en formato gzip.\n",
        "    Args:\n",
        "        file_name (str): el nombre del archivo que contiene las etiquetas\n",
        "    Returns:\n",
        "        array: imágenes en forma de vectores de tamaño 784.\n",
        "    \"\"\"\n",
        "    file_name = files[file_key]\n",
        "    file_path = os.getcwd() + \"/\" + file_name\n",
        "\n",
        "    j = 0 if file_key=='train_img' else 1\n",
        "    with gzip.open(file_path, 'rb') as f:\n",
        "        # omite los primeros 16 bytes\n",
        "        f.read(16)\n",
        "        # cada pixel en 1 byte = 8 bits\n",
        "        # lee todos los datos y los coloca en un buffer de memoria\n",
        "        buf = f.read(image_size * image_size * num_images[j])\n",
        "        # traslada los datos a un array de numpy de tipo float32\n",
        "        data = np.frombuffer(buf, dtype=np.uint8).astype(np.float32)\n",
        "        # Cambia la forma de los datos par entregarlos listos al dataset\n",
        "        data = data.reshape(num_images[j], image_size, image_size, 1)\n",
        "\n",
        "    return data\n",
        "\n",
        "def _convert_numpy():\n",
        "    \"\"\"Función que convierte los datos del MNIST en arrays de NumPy y los guarda en dos diccionarios.\n",
        "    Args: None\n",
        "    Returns:\n",
        "        dictionary: con las claves ‘train_img’, ‘train_label’, ‘test_img’ y ‘test_label’,\n",
        "                   y los valores correspondientes a los arrays de NumPy con las imágenes\n",
        "                   y las etiquetas.\n",
        "    \"\"\"\n",
        "    # Cargar el conjunto de datos del MNIST usando las funciones _load_label y _load_img\n",
        "    X_train = _load_img('train_img')\n",
        "    y_train = _load_label('train_label')\n",
        "    X_test = _load_img('test_img')\n",
        "    y_test = _load_label('test_label')\n",
        "\n",
        "    # Imprimir las dimensiones de los conjuntos de datos\n",
        "    print(\"Dimensiones del conjunto de entrenamiento:\")\n",
        "    print(X_train.shape)\n",
        "    print(y_train.shape)\n",
        "    print(\"Dimensiones del conjunto de prueba:\")\n",
        "    print(X_test.shape)\n",
        "    print(y_test.shape)\n",
        "\n",
        "    return X_train, X_test, y_train, y_test\n",
        "\n",
        "\n",
        "X_train, X_test, y_train, y_test = _convert_numpy()\n",
        "\n"
      ],
      "metadata": {
        "id": "sXozfCHCGHcH",
        "colab": {
          "base_uri": "https://localhost:8080/",
          "height": 373
        },
        "outputId": "2c21edcf-396d-4f70-938e-499b97154b45"
      },
      "execution_count": 2,
      "outputs": [
        {
          "output_type": "error",
          "ename": "FileNotFoundError",
          "evalue": "ignored",
          "traceback": [
            "\u001b[0;31m---------------------------------------------------------------------------\u001b[0m",
            "\u001b[0;31mFileNotFoundError\u001b[0m                         Traceback (most recent call last)",
            "\u001b[0;32m<ipython-input-2-9d6b3e2695b3>\u001b[0m in \u001b[0;36m<cell line: 94>\u001b[0;34m()\u001b[0m\n\u001b[1;32m     92\u001b[0m \u001b[0;34m\u001b[0m\u001b[0m\n\u001b[1;32m     93\u001b[0m \u001b[0;34m\u001b[0m\u001b[0m\n\u001b[0;32m---> 94\u001b[0;31m \u001b[0mX_train\u001b[0m\u001b[0;34m,\u001b[0m \u001b[0mX_test\u001b[0m\u001b[0;34m,\u001b[0m \u001b[0my_train\u001b[0m\u001b[0;34m,\u001b[0m \u001b[0my_test\u001b[0m \u001b[0;34m=\u001b[0m \u001b[0m_convert_numpy\u001b[0m\u001b[0;34m(\u001b[0m\u001b[0;34m)\u001b[0m\u001b[0;34m\u001b[0m\u001b[0;34m\u001b[0m\u001b[0m\n\u001b[0m\u001b[1;32m     95\u001b[0m \u001b[0;34m\u001b[0m\u001b[0m\n",
            "\u001b[0;32m<ipython-input-2-9d6b3e2695b3>\u001b[0m in \u001b[0;36m_convert_numpy\u001b[0;34m()\u001b[0m\n\u001b[1;32m     76\u001b[0m     \"\"\"\n\u001b[1;32m     77\u001b[0m     \u001b[0;31m# Cargar el conjunto de datos del MNIST usando las funciones _load_label y _load_img\u001b[0m\u001b[0;34m\u001b[0m\u001b[0;34m\u001b[0m\u001b[0m\n\u001b[0;32m---> 78\u001b[0;31m     \u001b[0mX_train\u001b[0m \u001b[0;34m=\u001b[0m \u001b[0m_load_img\u001b[0m\u001b[0;34m(\u001b[0m\u001b[0;34m'train_img'\u001b[0m\u001b[0;34m)\u001b[0m\u001b[0;34m\u001b[0m\u001b[0;34m\u001b[0m\u001b[0m\n\u001b[0m\u001b[1;32m     79\u001b[0m     \u001b[0my_train\u001b[0m \u001b[0;34m=\u001b[0m \u001b[0m_load_label\u001b[0m\u001b[0;34m(\u001b[0m\u001b[0;34m'train_label'\u001b[0m\u001b[0;34m)\u001b[0m\u001b[0;34m\u001b[0m\u001b[0;34m\u001b[0m\u001b[0m\n\u001b[1;32m     80\u001b[0m     \u001b[0mX_test\u001b[0m \u001b[0;34m=\u001b[0m \u001b[0m_load_img\u001b[0m\u001b[0;34m(\u001b[0m\u001b[0;34m'test_img'\u001b[0m\u001b[0;34m)\u001b[0m\u001b[0;34m\u001b[0m\u001b[0;34m\u001b[0m\u001b[0m\n",
            "\u001b[0;32m<ipython-input-2-9d6b3e2695b3>\u001b[0m in \u001b[0;36m_load_img\u001b[0;34m(file_key)\u001b[0m\n\u001b[1;32m     54\u001b[0m \u001b[0;34m\u001b[0m\u001b[0m\n\u001b[1;32m     55\u001b[0m     \u001b[0mj\u001b[0m \u001b[0;34m=\u001b[0m \u001b[0;36m0\u001b[0m \u001b[0;32mif\u001b[0m \u001b[0mfile_key\u001b[0m\u001b[0;34m==\u001b[0m\u001b[0;34m'train_img'\u001b[0m \u001b[0;32melse\u001b[0m \u001b[0;36m1\u001b[0m\u001b[0;34m\u001b[0m\u001b[0;34m\u001b[0m\u001b[0m\n\u001b[0;32m---> 56\u001b[0;31m     \u001b[0;32mwith\u001b[0m \u001b[0mgzip\u001b[0m\u001b[0;34m.\u001b[0m\u001b[0mopen\u001b[0m\u001b[0;34m(\u001b[0m\u001b[0mfile_path\u001b[0m\u001b[0;34m,\u001b[0m \u001b[0;34m'rb'\u001b[0m\u001b[0;34m)\u001b[0m \u001b[0;32mas\u001b[0m \u001b[0mf\u001b[0m\u001b[0;34m:\u001b[0m\u001b[0;34m\u001b[0m\u001b[0;34m\u001b[0m\u001b[0m\n\u001b[0m\u001b[1;32m     57\u001b[0m         \u001b[0;31m# omite los primeros 16 bytes\u001b[0m\u001b[0;34m\u001b[0m\u001b[0;34m\u001b[0m\u001b[0m\n\u001b[1;32m     58\u001b[0m         \u001b[0mf\u001b[0m\u001b[0;34m.\u001b[0m\u001b[0mread\u001b[0m\u001b[0;34m(\u001b[0m\u001b[0;36m16\u001b[0m\u001b[0;34m)\u001b[0m\u001b[0;34m\u001b[0m\u001b[0;34m\u001b[0m\u001b[0m\n",
            "\u001b[0;32m/usr/lib/python3.10/gzip.py\u001b[0m in \u001b[0;36mopen\u001b[0;34m(filename, mode, compresslevel, encoding, errors, newline)\u001b[0m\n\u001b[1;32m     56\u001b[0m     \u001b[0mgz_mode\u001b[0m \u001b[0;34m=\u001b[0m \u001b[0mmode\u001b[0m\u001b[0;34m.\u001b[0m\u001b[0mreplace\u001b[0m\u001b[0;34m(\u001b[0m\u001b[0;34m\"t\"\u001b[0m\u001b[0;34m,\u001b[0m \u001b[0;34m\"\"\u001b[0m\u001b[0;34m)\u001b[0m\u001b[0;34m\u001b[0m\u001b[0;34m\u001b[0m\u001b[0m\n\u001b[1;32m     57\u001b[0m     \u001b[0;32mif\u001b[0m \u001b[0misinstance\u001b[0m\u001b[0;34m(\u001b[0m\u001b[0mfilename\u001b[0m\u001b[0;34m,\u001b[0m \u001b[0;34m(\u001b[0m\u001b[0mstr\u001b[0m\u001b[0;34m,\u001b[0m \u001b[0mbytes\u001b[0m\u001b[0;34m,\u001b[0m \u001b[0mos\u001b[0m\u001b[0;34m.\u001b[0m\u001b[0mPathLike\u001b[0m\u001b[0;34m)\u001b[0m\u001b[0;34m)\u001b[0m\u001b[0;34m:\u001b[0m\u001b[0;34m\u001b[0m\u001b[0;34m\u001b[0m\u001b[0m\n\u001b[0;32m---> 58\u001b[0;31m         \u001b[0mbinary_file\u001b[0m \u001b[0;34m=\u001b[0m \u001b[0mGzipFile\u001b[0m\u001b[0;34m(\u001b[0m\u001b[0mfilename\u001b[0m\u001b[0;34m,\u001b[0m \u001b[0mgz_mode\u001b[0m\u001b[0;34m,\u001b[0m \u001b[0mcompresslevel\u001b[0m\u001b[0;34m)\u001b[0m\u001b[0;34m\u001b[0m\u001b[0;34m\u001b[0m\u001b[0m\n\u001b[0m\u001b[1;32m     59\u001b[0m     \u001b[0;32melif\u001b[0m \u001b[0mhasattr\u001b[0m\u001b[0;34m(\u001b[0m\u001b[0mfilename\u001b[0m\u001b[0;34m,\u001b[0m \u001b[0;34m\"read\"\u001b[0m\u001b[0;34m)\u001b[0m \u001b[0;32mor\u001b[0m \u001b[0mhasattr\u001b[0m\u001b[0;34m(\u001b[0m\u001b[0mfilename\u001b[0m\u001b[0;34m,\u001b[0m \u001b[0;34m\"write\"\u001b[0m\u001b[0;34m)\u001b[0m\u001b[0;34m:\u001b[0m\u001b[0;34m\u001b[0m\u001b[0;34m\u001b[0m\u001b[0m\n\u001b[1;32m     60\u001b[0m         \u001b[0mbinary_file\u001b[0m \u001b[0;34m=\u001b[0m \u001b[0mGzipFile\u001b[0m\u001b[0;34m(\u001b[0m\u001b[0;32mNone\u001b[0m\u001b[0;34m,\u001b[0m \u001b[0mgz_mode\u001b[0m\u001b[0;34m,\u001b[0m \u001b[0mcompresslevel\u001b[0m\u001b[0;34m,\u001b[0m \u001b[0mfilename\u001b[0m\u001b[0;34m)\u001b[0m\u001b[0;34m\u001b[0m\u001b[0;34m\u001b[0m\u001b[0m\n",
            "\u001b[0;32m/usr/lib/python3.10/gzip.py\u001b[0m in \u001b[0;36m__init__\u001b[0;34m(self, filename, mode, compresslevel, fileobj, mtime)\u001b[0m\n\u001b[1;32m    172\u001b[0m             \u001b[0mmode\u001b[0m \u001b[0;34m+=\u001b[0m \u001b[0;34m'b'\u001b[0m\u001b[0;34m\u001b[0m\u001b[0;34m\u001b[0m\u001b[0m\n\u001b[1;32m    173\u001b[0m         \u001b[0;32mif\u001b[0m \u001b[0mfileobj\u001b[0m \u001b[0;32mis\u001b[0m \u001b[0;32mNone\u001b[0m\u001b[0;34m:\u001b[0m\u001b[0;34m\u001b[0m\u001b[0;34m\u001b[0m\u001b[0m\n\u001b[0;32m--> 174\u001b[0;31m             \u001b[0mfileobj\u001b[0m \u001b[0;34m=\u001b[0m \u001b[0mself\u001b[0m\u001b[0;34m.\u001b[0m\u001b[0mmyfileobj\u001b[0m \u001b[0;34m=\u001b[0m \u001b[0mbuiltins\u001b[0m\u001b[0;34m.\u001b[0m\u001b[0mopen\u001b[0m\u001b[0;34m(\u001b[0m\u001b[0mfilename\u001b[0m\u001b[0;34m,\u001b[0m \u001b[0mmode\u001b[0m \u001b[0;32mor\u001b[0m \u001b[0;34m'rb'\u001b[0m\u001b[0;34m)\u001b[0m\u001b[0;34m\u001b[0m\u001b[0;34m\u001b[0m\u001b[0m\n\u001b[0m\u001b[1;32m    175\u001b[0m         \u001b[0;32mif\u001b[0m \u001b[0mfilename\u001b[0m \u001b[0;32mis\u001b[0m \u001b[0;32mNone\u001b[0m\u001b[0;34m:\u001b[0m\u001b[0;34m\u001b[0m\u001b[0;34m\u001b[0m\u001b[0m\n\u001b[1;32m    176\u001b[0m             \u001b[0mfilename\u001b[0m \u001b[0;34m=\u001b[0m \u001b[0mgetattr\u001b[0m\u001b[0;34m(\u001b[0m\u001b[0mfileobj\u001b[0m\u001b[0;34m,\u001b[0m \u001b[0;34m'name'\u001b[0m\u001b[0;34m,\u001b[0m \u001b[0;34m''\u001b[0m\u001b[0;34m)\u001b[0m\u001b[0;34m\u001b[0m\u001b[0;34m\u001b[0m\u001b[0m\n",
            "\u001b[0;31mFileNotFoundError\u001b[0m: [Errno 2] No such file or directory: '/content/train-images-idx3-ubyte.gz'"
          ]
        }
      ]
    },
    {
      "cell_type": "markdown",
      "source": [
        "Una vez construidos los conjuntos de entrenamiento y prueba, se procede a construir el modelo de Naive Bayes. Para ello, se necesita calcular las probabilidades a priori de cada clase (P(c), donde c es la clase de cada dígito, p.e. la clase del 0, la del 1, hasta la del 9) y las probabilidades condicionales de cada píxel dado cada clase (P(x|c)). Estas probabilidades se pueden estimar a partir de los datos de entrenamiento usando la regla de Laplace, que consiste en añadir un pequeño valor (por ejemplo, 1) al numerador y al denominador de las frecuencias relativas.\n",
        "\n",
        "Por lo tanto, la probabilidad a priori de cada clase $α$ (P(c=$α$)) está dada por:"
      ],
      "metadata": {
        "id": "lcoScNh-3QSf"
      }
    },
    {
      "cell_type": "code",
      "source": [
        "# Contar el número total de imágenes\n",
        "n_total = len(y_train)\n",
        "\n",
        "# Crear una lista vacía para guardar las probabilidades a priori\n",
        "p_c = []\n",
        "n_c = []\n",
        "# Recorrer las clases del 0 al 9\n",
        "for c in range(10):\n",
        "    # Contar el número de imágenes que tienen la etiqueta c\n",
        "    n_c.append(np.sum(y_train == c))\n",
        "    # Aplicar la regla de Laplace con un valor k=1\n",
        "    p_c.append((n_c[c] + 1) / (n_total + 10))\n",
        "\n",
        "# Convertir la lista en un array de numpy\n",
        "p_c = np.array(p_c)\n",
        "n_c = np.array(n_c)\n",
        "\n",
        "print(\"P(C=c)=\",p_c)"
      ],
      "metadata": {
        "colab": {
          "base_uri": "https://localhost:8080/"
        },
        "id": "Q7pJlYbe4hDh",
        "outputId": "52b7b90f-fa94-4a0d-e9ff-bd79a2be1b06"
      },
      "execution_count": 69,
      "outputs": [
        {
          "output_type": "stream",
          "name": "stdout",
          "text": [
            "P(C=c)= [0.0987086  0.11237242 0.09929181 0.10218704 0.09737555 0.09035618\n",
            " 0.09862529 0.10441575 0.09752135 0.09914601]\n"
          ]
        }
      ]
    },
    {
      "cell_type": "markdown",
      "source": [
        "Estas probabilidades siempre serán cercanas a 0.1, que es la probabilidad esperada de cada dígito, dada por:"
      ],
      "metadata": {
        "id": "5m8HQpD95NRm"
      }
    },
    {
      "cell_type": "markdown",
      "source": [
        "### $P(C=c)=\\frac{Frecuencia \\ del \\ dígito}{Cantidad \\ de \\ dígitos}=\\frac{1}{10}=0.1$"
      ],
      "metadata": {
        "id": "xvRj1WKn7bWV"
      }
    },
    {
      "cell_type": "markdown",
      "source": [
        "Debido a que son complementarias, su suma debe ser igual a 1. Verificando:"
      ],
      "metadata": {
        "id": "6YpJ18D68jD7"
      }
    },
    {
      "cell_type": "code",
      "source": [
        "print(\"Suma de las probabilidades a priori:\", np.sum(p_c))"
      ],
      "metadata": {
        "colab": {
          "base_uri": "https://localhost:8080/"
        },
        "id": "DrFntiu08rV5",
        "outputId": "8f2386b3-ada6-4fb2-d809-d932572352f9"
      },
      "execution_count": 70,
      "outputs": [
        {
          "output_type": "stream",
          "name": "stdout",
          "text": [
            "Suma de las probabilidades a priori: 1.0\n"
          ]
        }
      ]
    },
    {
      "cell_type": "markdown",
      "source": [
        "Para calcular las probabilidades condicionales de cada píxel dado cada clase (P(x|c)), necesitas contar el número de veces que cada píxel tiene un valor mayor que cero en las imágenes de cada clase. Esto se puede hacer usando la función where de numpy, que te permite seleccionar los elementos de un array que cumplen una condición. Por ejemplo, para calcular la probabilidad condicional del primer píxel dado la clase 0 (P(x1|c=0)), puedes hacer lo siguiente:"
      ],
      "metadata": {
        "id": "dv5E4_ZU9A4T"
      }
    },
    {
      "cell_type": "code",
      "source": [
        "# Crear una lista vacía para guardar las probabilidades condicionales\n",
        "p_x_c = []\n",
        "# Recorrer las clases del 0 al 9\n",
        "for c in range(10):\n",
        "    # Seleccionar las imágenes que tienen la etiqueta c\n",
        "    X_c = X_train[np.where(y_train == c)]\n",
        "    # Crear una lista vacía para guardar las probabilidades condicionales de cada píxel dado la clase c\n",
        "    p_x_c_c = []\n",
        "    # Recorrer los píxeles del 1 al 784\n",
        "    for i in range(5):\n",
        "        # Calcular el índice de la fila y la columna del píxel i\n",
        "        row = i // 28\n",
        "        col = i % 28\n",
        "        print(row, col)\n",
        "        # Contar el número de imágenes que tienen el píxel i mayor o igual que cero\n",
        "        n_xi_c = np.sum(X_c[:, row, col, 0] > 0.1)\n",
        "        # Aplicar la regla de Laplace con un valor k=1\n",
        "        p_xi_c = (n_xi_c + 1) / (n_c[c] + 2)\n",
        "        # Añadir la probabilidad condicional a la lista\n",
        "        p_x_c_c.append(p_xi_c)\n",
        "    # Convertir la lista en un array de numpy y añadirlo a la lista principal\n",
        "    p_x_c.append(np.array(p_x_c_c))\n",
        "# Convertir la lista principal en un array de numpy\n",
        "p_x_c = np.array(p_x_c)\n",
        "\n",
        "# print(p_x_c)"
      ],
      "metadata": {
        "colab": {
          "base_uri": "https://localhost:8080/",
          "height": 245
        },
        "id": "Ax7nMDEk9AB4",
        "outputId": "c7a202be-4167-4e48-d5b2-3b1fc9215f89"
      },
      "execution_count": 1,
      "outputs": [
        {
          "output_type": "error",
          "ename": "NameError",
          "evalue": "ignored",
          "traceback": [
            "\u001b[0;31m---------------------------------------------------------------------------\u001b[0m",
            "\u001b[0;31mNameError\u001b[0m                                 Traceback (most recent call last)",
            "\u001b[0;32m<ipython-input-1-3812e1cf2587>\u001b[0m in \u001b[0;36m<cell line: 4>\u001b[0;34m()\u001b[0m\n\u001b[1;32m      4\u001b[0m \u001b[0;32mfor\u001b[0m \u001b[0mc\u001b[0m \u001b[0;32min\u001b[0m \u001b[0mrange\u001b[0m\u001b[0;34m(\u001b[0m\u001b[0;36m10\u001b[0m\u001b[0;34m)\u001b[0m\u001b[0;34m:\u001b[0m\u001b[0;34m\u001b[0m\u001b[0;34m\u001b[0m\u001b[0m\n\u001b[1;32m      5\u001b[0m     \u001b[0;31m# Seleccionar las imágenes que tienen la etiqueta c\u001b[0m\u001b[0;34m\u001b[0m\u001b[0;34m\u001b[0m\u001b[0m\n\u001b[0;32m----> 6\u001b[0;31m     \u001b[0mX_c\u001b[0m \u001b[0;34m=\u001b[0m \u001b[0mX_train\u001b[0m\u001b[0;34m[\u001b[0m\u001b[0mnp\u001b[0m\u001b[0;34m.\u001b[0m\u001b[0mwhere\u001b[0m\u001b[0;34m(\u001b[0m\u001b[0my_train\u001b[0m \u001b[0;34m==\u001b[0m \u001b[0mc\u001b[0m\u001b[0;34m)\u001b[0m\u001b[0;34m]\u001b[0m\u001b[0;34m\u001b[0m\u001b[0;34m\u001b[0m\u001b[0m\n\u001b[0m\u001b[1;32m      7\u001b[0m     \u001b[0;31m# Crear una lista vacía para guardar las probabilidades condicionales de cada píxel dado la clase c\u001b[0m\u001b[0;34m\u001b[0m\u001b[0;34m\u001b[0m\u001b[0m\n\u001b[1;32m      8\u001b[0m     \u001b[0mp_x_c_c\u001b[0m \u001b[0;34m=\u001b[0m \u001b[0;34m[\u001b[0m\u001b[0;34m]\u001b[0m\u001b[0;34m\u001b[0m\u001b[0;34m\u001b[0m\u001b[0m\n",
            "\u001b[0;31mNameError\u001b[0m: name 'X_train' is not defined"
          ]
        }
      ]
    },
    {
      "cell_type": "code",
      "source": [
        "print(\"Suma de las probabilidades condicionales por clase:\", np.sum(p_x_c, axis=1))\n"
      ],
      "metadata": {
        "colab": {
          "base_uri": "https://localhost:8080/"
        },
        "id": "QmEN_SoH9QFB",
        "outputId": "a1ffed69-1977-45a2-ed70-db6694940e8b"
      },
      "execution_count": 72,
      "outputs": [
        {
          "output_type": "stream",
          "name": "stdout",
          "text": [
            "Suma de las probabilidades condicionales por clase: [191.93945148  85.96478873 168.96266779 163.63888323 141.70380667\n",
            " 152.54989629 157.54624155 131.48883127 173.12449285 142.62570888]\n"
          ]
        }
      ]
    },
    {
      "cell_type": "code",
      "source": [
        "\n",
        "\n",
        "## Preparando los datos para entrenamiento con DataLoaders\n",
        "num_workers = torch.get_num_threads()//2\n",
        "\n",
        "train_dataloader = DataLoader(train_dataset, batch_size=64, shuffle=True, num_workers= num_workers)\n",
        "\n",
        "test_dataloader = DataLoader(test_dataset, batch_size=64, shuffle=False)\n",
        "\n",
        "print(torch.get_num_threads())\n",
        "\n",
        "len(next(iter(test_dataloader)))\n",
        "\n",
        "\n",
        "## Iterando a lo largo del DataLoader\n",
        "\n",
        "# Despliega imagen y etiqueta\n",
        "train_features, train_labels = next(iter(train_dataloader))\n",
        "print(f'Shape del lote de imágenes: {train_features.size()}')\n",
        "print(f'Shape del lote de etiquetas: {train_labels.size()}')\n",
        "img = train_features[0].squeeze()# primer elemento del batch\n",
        "# squeeze elimina ejes de tamaño 1.\n",
        "label = train_labels[0]\n",
        "plt.imshow(img, cmap='gray')\n",
        "plt.title(label.numpy())\n",
        "plt.show()\n",
        "\n",
        "class Draw:\n",
        "    def __init__(self, label_map, images_iterator, cols=4, rows=4, figsize=(6,6)):\n",
        "        self.data = images_iterator\n",
        "        self.label_map = label_map\n",
        "        self.figsize=figsize\n",
        "        self.cols = cols\n",
        "        self.rows = rows\n",
        "        self.index = 0\n",
        "\n",
        "    def __iter__(self):\n",
        "        return self\n",
        "\n",
        "    def __next__(self):\n",
        "        if self.index >= len(self.data):\n",
        "            raise StopIteration\n",
        "\n",
        "        self.index += 1\n",
        "\n",
        "        img, label = next(self.data)\n",
        "        figure = plt.figure(figsize=self.figsize)\n",
        "        for i in range(1, self.cols*self.rows+1):\n",
        "            #sample_idx = torch.randint(len(training_data), size =(1,)).item()\n",
        "            #img, label = training_data[sample_idx]\n",
        "            figure.add_subplot(self.rows, self.cols, i)\n",
        "            #plt.title(self.label_map[label])\n",
        "            plt.axis('off')\n",
        "            plt.imshow(img[i].squeeze(), cmap='gray')\n",
        "            plt.title(label[i].numpy())\n",
        "        plt.show()\n",
        "        #return value\n",
        "\n",
        "label_map = {\n",
        "    0: 'camiseta',\n",
        "    1: \"Pantalones\",\n",
        "    2: \"Jersey\",\n",
        "    3: \"Vestido\",\n",
        "    4: \"Abrigo\",\n",
        "    5: \"Sandalia\",\n",
        "    6: \"Camisa\",\n",
        "    7: \"Tenis\",\n",
        "    8: \"Bolso\",\n",
        "    9: \"Botines\",\n",
        "}\n",
        "\n",
        "images = Draw(label_map, iter(train_dataloader))\n",
        "\n",
        "next(images)"
      ],
      "metadata": {
        "colab": {
          "base_uri": "https://localhost:8080/",
          "height": 1000
        },
        "id": "vAzGqicV1kIZ",
        "outputId": "b06164ea-7671-49fe-a28e-35ea43b1e504"
      },
      "execution_count": null,
      "outputs": [
        {
          "output_type": "stream",
          "name": "stdout",
          "text": [
            "1\n",
            "Shape del lote de imágenes: torch.Size([64, 28, 28, 1])\n",
            "Shape del lote de etiquetas: torch.Size([64])\n"
          ]
        },
        {
          "output_type": "display_data",
          "data": {
            "text/plain": [
              "<Figure size 640x480 with 1 Axes>"
            ],
            "image/png": "[encoded data removed]"
          },
          "metadata": {}
        },
        {
          "output_type": "display_data",
          "data": {
            "text/plain": [
              "<Figure size 600x600 with 16 Axes>"
            ],
            "image/png": "[encoded data removed]"
          },
          "metadata": {}
        }
      ]
    },
    {
      "cell_type": "code",
      "source": [
        "import os.path\n",
        "import gzip\n",
        "import pickle\n",
        "import os\n",
        "import numpy as np\n",
        "import torch\n",
        "from torch.utils.data import Dataset\n",
        "from torch.utils.data import DataLoader\n",
        "from torchvision import datasets\n",
        "from torchvision.transforms import ToTensor\n",
        "import matplotlib.pyplot as plt\n",
        "from sklearn.model_selection import train_test_split\n",
        "\n",
        "files = {\n",
        "    'train_img':'train-images-idx3-ubyte.gz',\n",
        "    'train_label':'train-labels-idx1-ubyte.gz',\n",
        "    'test_img':'t10k-images-idx3-ubyte.gz',\n",
        "    'test_label':'t10k-labels-idx1-ubyte.gz'\n",
        "}\n",
        "\n",
        "image_size = 28\n",
        "num_images = [60000, 10000]\n",
        "num_labels = [60000, 10000]\n",
        "\n",
        "def _load_label(file_key):\n",
        "    file_name = files[file_key]\n",
        "    file_path = os.getcwd() + \"/\" + file_name\n",
        "\n",
        "    j = 0 if file_key=='train_label' else 1\n",
        "    with gzip.open(file_path, 'rb') as f:\n",
        "        f.read(8)\n",
        "        buf = f.read(num_labels[j])\n",
        "        label = np.frombuffer(buf, dtype=np.uint8).astype(np.int64)\n",
        "\n",
        "    return label\n",
        "\n",
        "def _load_img(file_key):\n",
        "    file_name = files[file_key]\n",
        "    file_path = os.getcwd() + \"/\" + file_name\n",
        "\n",
        "    j = 0 if file_key=='train_img' else 1\n",
        "    with gzip.open(file_path, 'rb') as f:\n",
        "        f.read(16)\n",
        "        buf = f.read(image_size * image_size * num_images[j])\n",
        "        data = np.frombuffer(buf, dtype=np.uint8).astype(np.float32)\n",
        "        data = data.reshape(num_images[j], image_size, image_size, 1)\n",
        "\n",
        "    return data\n",
        "\n",
        "def _convert_numpy():\n",
        "    X_train = _load_img('train_img')\n",
        "    y_train = _load_label('train_label')\n",
        "    X_test = _load_img('test_img')\n",
        "    y_test = _load_label('test_label')\n",
        "\n",
        "    print(\"Dimensiones del conjunto de entrenamiento:\")\n",
        "    print(X_train.shape)\n",
        "    print(y_train.shape)\n",
        "    print(\"Dimensiones del conjunto de prueba:\")\n",
        "    print(X_test.shape)\n",
        "    print(y_test.shape)\n",
        "\n",
        "    return X_train, X_test, y_train, y_test\n",
        "\n",
        "\n",
        "X_train, X_test, y_train, y_test = _convert_numpy()"
      ],
      "metadata": {
        "id": "7XGv-0aFEdR4"
      },
      "execution_count": null,
      "outputs": []
    },
    {
      "cell_type": "markdown",
      "source": [],
      "metadata": {
        "id": "zfTvXu2qsVnc"
      }
    },
    {
      "cell_type": "code",
      "source": [],
      "metadata": {
        "id": "_qY3PZccH4Gg"
      },
      "execution_count": null,
      "outputs": []
    },
    {
      "cell_type": "code",
      "source": [],
      "metadata": {
        "id": "WFVaNtNxH6YY"
      },
      "execution_count": null,
      "outputs": []
    }
  ]
}